{
  "nbformat": 4,
  "nbformat_minor": 0,
  "metadata": {
    "colab": {
      "name": "DictionariesChallenge.ipynb",
      "provenance": [],
      "collapsed_sections": [],
      "include_colab_link": true
    },
    "kernelspec": {
      "display_name": "Python 3",
      "name": "python3"
    }
  },
  "cells": [
    {
      "cell_type": "markdown",
      "metadata": {
        "id": "view-in-github",
        "colab_type": "text"
      },
      "source": [
        "<a href=\"https://colab.research.google.com/github/RiditaNizam/DictionariesChallenge/blob/main/DictionariesChallenge.ipynb\" target=\"_parent\"><img src=\"https://colab.research.google.com/assets/colab-badge.svg\" alt=\"Open In Colab\"/></a>"
      ]
    },
    {
      "cell_type": "code",
      "metadata": {
        "id": "sFzhdJKB6nNi",
        "colab": {
          "base_uri": "https://localhost:8080/"
        },
        "outputId": "d6278a08-d0e0-4ef3-ee73-1cedb1a21097"
      },
      "source": [
        "from google.colab import drive\n",
        "drive.mount('/content/drive')"
      ],
      "execution_count": 4,
      "outputs": [
        {
          "output_type": "stream",
          "text": [
            "Drive already mounted at /content/drive; to attempt to forcibly remount, call drive.mount(\"/content/drive\", force_remount=True).\n"
          ],
          "name": "stdout"
        }
      ]
    },
    {
      "cell_type": "code",
      "metadata": {
        "id": "iMGwi2Qi5D0C"
      },
      "source": [
        "#Getting a dictionary from a CSV file\n",
        "import csv\n",
        "\n",
        "with open('treeorderssubsetnodupes.csv', mode='r') as infile:\n",
        "  reader = csv.reader(infile)\n",
        "\n",
        "  mydict = {}\n",
        "\n",
        "  #Copy contents from file to dictionary\n",
        "  for row in reader:\n",
        "    #Row 0 is stored as key\n",
        "    key = row[0]\n",
        "    #Second value is stored as value\n",
        "    mydict[key] = row[1]    \n",
        "  infile.close()"
      ],
      "execution_count": 5,
      "outputs": []
    },
    {
      "cell_type": "code",
      "metadata": {
        "colab": {
          "base_uri": "https://localhost:8080/"
        },
        "id": "8C4qtRbl5dde",
        "outputId": "ea333557-9b9f-4503-ee8e-33b661c1dbc5"
      },
      "source": [
        "#Size of dictionary\n",
        "print(len(mydict))"
      ],
      "execution_count": 6,
      "outputs": [
        {
          "output_type": "stream",
          "text": [
            "159\n"
          ],
          "name": "stdout"
        }
      ]
    },
    {
      "cell_type": "code",
      "metadata": {
        "colab": {
          "base_uri": "https://localhost:8080/"
        },
        "id": "kmqFr7Wk7-ie",
        "outputId": "d34733b4-f7f2-4372-b963-daa1c3dcf2e4"
      },
      "source": [
        "#Change the value of the key '205' to be 4\n",
        "mydict['205'] = 4\n",
        "print(mydict['205'])"
      ],
      "execution_count": 14,
      "outputs": [
        {
          "output_type": "stream",
          "text": [
            "4\n"
          ],
          "name": "stdout"
        }
      ]
    },
    {
      "cell_type": "code",
      "metadata": {
        "id": "m0HroU8v6eXo",
        "colab": {
          "base_uri": "https://localhost:8080/"
        },
        "outputId": "c30b6414-ecb2-4ef3-da4c-80905f2bf128"
      },
      "source": [
        "#Print the keys and their associated values\n",
        "for key in mydict:\n",
        "  #mydict[key] is the value\n",
        "  print(key, mydict[key])"
      ],
      "execution_count": 15,
      "outputs": [
        {
          "output_type": "stream",
          "text": [
            "Subdivision_id Num_trees\n",
            "205 4\n",
            "219 1\n",
            "234 1\n",
            "262 1\n",
            "897 1\n",
            "281 1\n",
            "235 1\n",
            "166 1\n",
            "257 2\n",
            "714 1\n",
            "261 1\n",
            "196 2\n",
            "721 1\n",
            "753 1\n",
            "273 1\n",
            "283 1\n",
            "180 1\n",
            "727 1\n",
            "239 1\n",
            "195 1\n",
            "639 1\n",
            "199 1\n",
            "480 1\n",
            "665 1\n",
            "214 1\n",
            "762 1\n",
            "198 1\n",
            "643 1\n",
            "226 1\n",
            "898 1\n",
            "223 1\n",
            "730 1\n",
            "271 1\n",
            "292 2\n",
            "301 1\n",
            "871 1\n",
            "521 1\n",
            "228 1\n",
            "163 1\n",
            "274 1\n",
            "719 1\n",
            "241 1\n",
            "469 1\n",
            "236 1\n",
            "557 2\n",
            "787 1\n",
            "624 1\n",
            "293 1\n",
            "798 1\n",
            "720 1\n",
            "888 1\n",
            "648 1\n",
            "282 1\n",
            "248 2\n",
            "853 1\n",
            "303 1\n",
            "755 1\n",
            "173 1\n",
            "569 1\n",
            "161 1\n",
            "797 2\n",
            "165 1\n",
            "522 1\n",
            "811 1\n",
            "632 1\n",
            "828 1\n",
            "778 1\n",
            "277 1\n",
            "627 1\n",
            "194 1\n",
            "576 1\n",
            "832 2\n",
            "660 1\n",
            "831 2\n",
            "833 1\n",
            "644 1\n",
            "193 1\n",
            "642 1\n",
            "487 1\n",
            "278 1\n",
            "221 1\n",
            "496 1\n",
            "835 1\n",
            "211 1\n",
            "259 1\n",
            "275 1\n",
            "618 1\n",
            "923 1\n",
            "162 1\n",
            "168 1\n",
            "206 1\n",
            "524 1\n",
            "884 1\n",
            "795 1\n",
            "916 2\n",
            "181 1\n",
            "838 1\n",
            "770 1\n",
            "289 1\n",
            "633 1\n",
            "217 1\n",
            "931 1\n",
            "691 1\n",
            "541 1\n",
            "476 2\n",
            "298 1\n",
            "634 1\n",
            "841 1\n",
            "911 1\n",
            "846 1\n",
            "561 1\n",
            "172 1\n",
            "809 1\n",
            "564 1\n",
            "606 1\n",
            "905 1\n",
            "666 1\n",
            "483 1\n",
            "817 1\n",
            "473 1\n",
            "746 1\n",
            "484 2\n",
            "697 1\n",
            "591 0\n",
            "855 1\n",
            "670 1\n",
            "197 1\n",
            "906 1\n",
            "903 0\n",
            "550 1\n",
            "203 1\n",
            "174 1\n",
            "812 1\n",
            "860 1\n",
            "263 1\n",
            "863 2\n",
            "843 1\n",
            "295 1\n",
            "917 1\n",
            "866 1\n",
            "739 1\n",
            "749 1\n",
            "867 1\n",
            "899 1\n",
            "169 1\n",
            "264 1\n",
            "920 1\n",
            "900 1\n",
            "213 1\n",
            "879 1\n",
            "896 1\n",
            "915 1\n",
            "573 1\n",
            "231 1\n",
            "477 1\n",
            "921 1\n",
            "814 1\n",
            "202 1\n",
            "3 4\n",
            "205 4\n"
          ],
          "name": "stdout"
        }
      ]
    },
    {
      "cell_type": "code",
      "metadata": {
        "id": "RpO89D3H7w8i"
      },
      "source": [
        ""
      ],
      "execution_count": null,
      "outputs": []
    }
  ]
}